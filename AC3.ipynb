{
 "cells": [
  {
   "cell_type": "markdown",
   "metadata": {},
   "source": [
    "# Dolby Digital (AC3)"
   ]
  },
  {
   "cell_type": "markdown",
   "metadata": {},
   "source": [
    "\\begin{itemize}\n",
    "\\item Also known as ATSC (Advanced Television Systems Committee) AC-3,\n",
    "  was developed by Dolby Labs in 1992 (Batman Returns).\n",
    "\\item Used (together with DTS) extensively in cinema theaters, DVDs,\n",
    "  Blu-rays, DVB, etc.\n",
    "\\item Five channels for normal-range speakers (20 Hz - 20,000 Hz)\n",
    "  (right, center, left, right surround, left surround) and one channel\n",
    "  (20 Hz – 120 Hz allotted audio) for the sub-woofer.\n",
    "\\item Coding algorithm:\n",
    "  \\begin{enumerate}\n",
    "  \\item Transform the audio from the time domain to the frequency domain.\n",
    "  \\item Quantization of the frequencies using a psycho-acoustic model.\n",
    "  \\item (Lossless) Huffman coding of the remaining data.\n",
    "\\end{enumerate}\n",
    "\\end{itemize}"
   ]
  }
 ],
 "metadata": {
  "kernelspec": {
   "display_name": "Python 3",
   "language": "python",
   "name": "python3"
  },
  "language_info": {
   "codemirror_mode": {
    "name": "ipython",
    "version": 3
   },
   "file_extension": ".py",
   "mimetype": "text/x-python",
   "name": "python",
   "nbconvert_exporter": "python",
   "pygments_lexer": "ipython3",
   "version": "3.6.3"
  }
 },
 "nbformat": 4,
 "nbformat_minor": 2
}
